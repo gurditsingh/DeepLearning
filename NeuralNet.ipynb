{
  "nbformat": 4,
  "nbformat_minor": 0,
  "metadata": {
    "colab": {
      "name": "NeuralNet.ipynb",
      "version": "0.3.2",
      "provenance": [],
      "include_colab_link": true
    },
    "kernelspec": {
      "name": "python3",
      "display_name": "Python 3"
    }
  },
  "cells": [
    {
      "cell_type": "markdown",
      "metadata": {
        "id": "view-in-github",
        "colab_type": "text"
      },
      "source": [
        "<a href=\"https://colab.research.google.com/github/gurditsingh/DeepLearning/blob/master/NeuralNet.ipynb\" target=\"_parent\"><img src=\"https://colab.research.google.com/assets/colab-badge.svg\" alt=\"Open In Colab\"/></a>"
      ]
    },
    {
      "cell_type": "code",
      "metadata": {
        "id": "CwyHd9bMB9t7",
        "colab_type": "code",
        "colab": {}
      },
      "source": [
        "import numpy as np"
      ],
      "execution_count": 0,
      "outputs": []
    },
    {
      "cell_type": "code",
      "metadata": {
        "id": "daCAgvfvA6OC",
        "colab_type": "code",
        "colab": {}
      },
      "source": [
        "class Neural_Network:\n",
        "  def __init__(self,inputSize,outputSize,hiddenSize):\n",
        "    self.inputLayerSize=inputSize\n",
        "    self.outputLayerSize=outputSize\n",
        "    self.hiddenLayerSize=hiddenSize\n",
        "\n",
        "    self.W1=np.full((self.inputLayerSize,self.hiddenLayerSize),0.5)\n",
        "    self.W2=np.full((self.hiddenLayerSize,self.outputLayerSize),0.5)\n",
        "\n",
        "  def forward(self,X):\n",
        "    #z2 = X*W1\n",
        "    self.z2 = np.dot(X,self.W1)\n",
        "    #a2 = f(z2)\n",
        "    self.a2 = self.sigmoid(self.z2) \n",
        "    #z3 = a2 * W2\n",
        "    self.z3 = np.dot(self.a2,self.W2)\n",
        "    #y = f(z3)\n",
        "    y = self.sigmoid(self.z3)\n",
        "    return y\n",
        "\n",
        "  def sigmoid(self,z):\n",
        "    return 1 / (1 + np.exp(-z))\n",
        "\n",
        "  def sigmoidPrime(self, s):\n",
        "    #derivative of sigmoid\n",
        "    return s * (1 - s)\n",
        "\n",
        "  def backward(self, X, y, o):\n",
        "    # backward propgate through the network\n",
        "    self.o_error = y - o # error in output\n",
        "    self.o_delta = self.o_error*self.sigmoidPrime(o) # applying derivative of sigmoid to error\n",
        "\n",
        "    self.z2_error = self.o_delta.dot(self.W2.T) # z2 error: how much our hidden layer weights contributed to output error\n",
        "    self.z2_delta = self.z2_error*self.sigmoidPrime(self.z2) # applying derivative of sigmoid to z2 error\n",
        "\n",
        "    self.W1 += X.T.dot(self.z2_delta) # adjusting first set (input --> hidden) weights\n",
        "    self.W2 += self.z2.T.dot(self.o_delta) # adjusting second set (hidden --> output) weights\n",
        "\n",
        "  def train(self, X, y,epoch=2000):\n",
        "    for i in range(epoch):\n",
        "      o = self.forward(X)\n",
        "      self.backward(X, y, o)"
      ],
      "execution_count": 0,
      "outputs": []
    },
    {
      "cell_type": "code",
      "metadata": {
        "id": "fnoWxNmfHShL",
        "colab_type": "code",
        "colab": {}
      },
      "source": [
        "X = np.array(([2,9], [1,5], [3,6]), dtype=float)\n",
        "y = np.array(([91], [87], [89]), dtype=float)\n",
        "\n",
        "# scale units\n",
        "X = X/np.amax(X, axis=0) # maximum of X array\n",
        "y = y/100 # max test score is 100\n",
        "\n",
        "nn = Neural_Network(2,1,3)\n",
        "nn.train(X,y)"
      ],
      "execution_count": 0,
      "outputs": []
    }
  ]
}